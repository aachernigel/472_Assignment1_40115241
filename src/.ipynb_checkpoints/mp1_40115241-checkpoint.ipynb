{
 "cells": [
  {
   "cell_type": "markdown",
   "metadata": {},
   "source": [
    "# 1. Dataset Preparation & Analysis\n",
    "### In this part, the dataset will be prepared and analysed using various graphical representations."
   ]
  },
  {
   "cell_type": "markdown",
   "metadata": {},
   "source": [
    "## 1.0 Imports\n",
    "Necessary imports for the project, which are primarily: *sklearn*, *numpy*, *pandas*, *gensim*, *nltk*, *json*, and *matplotlib*."
   ]
  },
  {
   "cell_type": "code",
   "execution_count": 3,
   "metadata": {},
   "outputs": [],
   "source": [
    "from statistics import mode\n",
    "from regex import P\n",
    "import sklearn\n",
    "from sklearn.feature_extraction.text import CountVectorizer\n",
    "from sklearn.model_selection import train_test_split\n",
    "from sklearn.metrics import classification_report\n",
    "from sklearn.metrics import recall_score\n",
    "from sklearn.metrics import accuracy_score\n",
    "from sklearn.metrics import f1_score\n",
    "from sklearn.metrics import confusion_matrix\n",
    "from sklearn.naive_bayes import MultinomialNB\n",
    "from sklearn.tree import DecisionTreeClassifier\n",
    "from sklearn.neural_network import MLPClassifier\n",
    "from sklearn.model_selection import GridSearchCV\n",
    "import numpy as np\n",
    "import pandas as pd\n",
    "import gensim\n",
    "import gensim.downloader\n",
    "import nltk\n",
    "import warnings\n",
    "from nltk.tokenize import word_tokenize\n",
    "\n",
    "import gzip\n",
    "import json\n",
    "import matplotlib.pyplot as plt\n",
    "warnings.filterwarnings('ignore')"
   ]
  },
  {
   "cell_type": "markdown",
   "metadata": {},
   "source": [
    "## 1.01 Auxiliary Variables\n",
    "Definitions of auxiliary variables in order to better structurize the code. In fact, there is only one, which is called models: a dictionary, that will hold all the statistical information with regards to each model trained in this project."
   ]
  },
  {
   "cell_type": "code",
   "execution_count": 4,
   "metadata": {},
   "outputs": [],
   "source": [
    "models = {\n",
    "    'BASE Multinomial Naive Bayes Classifier': \n",
    "        { \n",
    "            'Sentiments': {\n",
    "                'Parameters': {},\n",
    "                'Confusion_Matrix': {},\n",
    "                'Classification_Report': {},\n",
    "                'Accuracy': 0,\n",
    "                'Macro_Average_F1': 0,\n",
    "                'Weighted_Average_F1': 0\n",
    "            }, \n",
    "            'Emotions': {\n",
    "                'Parameters': {},\n",
    "                'Confusion_Matrix': {},\n",
    "                'Classification_Report': {},\n",
    "                'Accuracy': 0,\n",
    "                'Macro_Average_F1': 0,\n",
    "                'Weighted_Average_F1': 0\n",
    "            }\n",
    "            },\n",
    "    'BASE Decision Tree Classifier': \n",
    "        {\n",
    "            'Sentiments': {\n",
    "                'Parameters': {},\n",
    "                'Confusion_Matrix': {},\n",
    "                'Classification_Report': {},\n",
    "                'Accuracy': 0,\n",
    "                'Macro_Average_F1': 0,\n",
    "                'Weighted_Average_F1': 0\n",
    "            }, \n",
    "            'Emotions': {\n",
    "                'Parameters': {},\n",
    "                'Confusion_Matrix': {},\n",
    "                'Classification_Report': {},\n",
    "                'Accuracy': 0,\n",
    "                'Macro_Average_F1': 0,\n",
    "                'Weighted_Average_F1': 0\n",
    "            }\n",
    "            },\n",
    "    'BASE Multi-Layered Perceptron Classifier': \n",
    "        {\n",
    "            'Sentiments': {\n",
    "                'Parameters': {},\n",
    "                'Confusion_Matrix': {},\n",
    "                'Classification_Report': {},\n",
    "                'Accuracy': 0,\n",
    "                'Macro_Average_F1': 0,\n",
    "                'Weighted_Average_F1': 0\n",
    "            }, \n",
    "            'Emotions': {\n",
    "                'Parameters': {},\n",
    "                'Confusion_Matrix': {},\n",
    "                'Classification_Report': {},\n",
    "                'Accuracy': 0,\n",
    "                'Macro_Average_F1': 0,\n",
    "                'Weighted_Average_F1': 0\n",
    "            }\n",
    "            },\n",
    "    'TOP Multinomial Naive Bayes Classifier': \n",
    "        {\n",
    "            'Sentiments': {\n",
    "                'Parameters': {},\n",
    "                'Confusion_Matrix': {},\n",
    "                'Classification_Report': {},\n",
    "                'Accuracy': 0,\n",
    "                'Macro_Average_F1': 0,\n",
    "                'Weighted_Average_F1': 0\n",
    "            }, \n",
    "            'Emotions': {\n",
    "                'Parameters': {},\n",
    "                'Confusion_Matrix': {},\n",
    "                'Classification_Report': {},\n",
    "                'Accuracy': 0,\n",
    "                'Macro_Average_F1': 0,\n",
    "                'Weighted_Average_F1': 0\n",
    "            }\n",
    "            },\n",
    "    'TOP Decision Tree Classifier': \n",
    "        {\n",
    "            'Sentiments': {\n",
    "                'Parameters': {},\n",
    "                'Confusion_Matrix': {},\n",
    "                'Classification_Report': {},\n",
    "                'Accuracy': 0,\n",
    "                'Macro_Average_F1': 0,\n",
    "                'Weighted_Average_F1': 0\n",
    "            }, \n",
    "            'Emotions': {\n",
    "                'Parameters': {},\n",
    "                'Confusion_Matrix': {},\n",
    "                'Classification_Report': {},\n",
    "                'Accuracy': 0,\n",
    "                'Macro_Average_F1': 0,\n",
    "                'Weighted_Average_F1': 0\n",
    "            }\n",
    "            },\n",
    "    'TOP Multi-Layered Perceptron Classifier': \n",
    "        {\n",
    "            'Sentiments': {\n",
    "                'Parameters': {},\n",
    "                'Confusion_Matrix': {},\n",
    "                'Classification_Report': {},\n",
    "                'Accuracy': 0,\n",
    "                'Macro_Average_F1': 0,\n",
    "                'Weighted_Average_F1': 0\n",
    "            }, \n",
    "            'Emotions': {\n",
    "                'Parameters': {},\n",
    "                'Confusion_Matrix': {},\n",
    "                'Classification_Report': {},\n",
    "                'Accuracy': 0,\n",
    "                'Macro_Average_F1': 0,\n",
    "                'Weighted_Average_F1': 0\n",
    "            }\n",
    "            },\n",
    "    'BASE Multi-Layered Perceptron Classifier (EMBEDDINGS)': \n",
    "        {\n",
    "            'Sentiments': {\n",
    "                'Parameters': {},\n",
    "                'Confusion_Matrix': {},\n",
    "                'Classification_Report': {},\n",
    "                'Accuracy': 0,\n",
    "                'Macro_Average_F1': 0,\n",
    "                'Weighted_Average_F1': 0\n",
    "            }, \n",
    "            'Emotions': {\n",
    "                'Parameters': {},\n",
    "                'Confusion_Matrix': {},\n",
    "                'Classification_Report': {},\n",
    "                'Accuracy': 0,\n",
    "                'Macro_Average_F1': 0,\n",
    "                'Weighted_Average_F1': 0\n",
    "            }\n",
    "            },\n",
    "    'TOP Multi-Layered Perceptron Classifier (EMBEDDINGS)': \n",
    "        {\n",
    "            'Sentiments': {\n",
    "                'Parameters': {},\n",
    "                'Confusion_Matrix': {},\n",
    "                'Classification_Report': {},\n",
    "                'Accuracy': 0,\n",
    "                'Macro_Average_F1': 0,\n",
    "                'Weighted_Average_F1': 0\n",
    "            }, \n",
    "            'Emotions': {\n",
    "                'Parameters': {},\n",
    "                'Confusion_Matrix': {},\n",
    "                'Classification_Report': {},\n",
    "                'Accuracy': 0,\n",
    "                'Macro_Average_F1': 0,\n",
    "                'Weighted_Average_F1': 0\n",
    "            }\n",
    "            }\n",
    "        }"
   ]
  },
  {
   "cell_type": "markdown",
   "metadata": {},
   "source": [
    "## 1.02 Auxiliary Functions\n",
    "Definitions of auxiliary functions in order to better structurize the code."
   ]
  },
  {
   "cell_type": "code",
   "execution_count": 5,
   "metadata": {},
   "outputs": [],
   "source": [
    "def update_models_info(models, model_sentiments, model_emotions, model_name, y_true_sentiments, y_pred_sentiments, y_true_emotions, y_pred_emotions):\n",
    "    \"\"\"\n",
    "    Update \"models\" dictionary with the information of the provided model\n",
    "\n",
    "    :models:             dictionary that contains all information about the models\n",
    "    :model_sentiments:   trained model that predicts sentiments\n",
    "    :model_emotions:     trained model that predicts emotions\n",
    "    :model_name:         name of the model, used to find the entry of the dictionary\n",
    "    :y_true_sentiments:  true values of Y for sentiments\n",
    "    :y_pred_sentiments:  predicted values of Y for sentiments\n",
    "    :y_true_emotions:    true values of Y for emotions\n",
    "    :y_pred_emotions:    predicted values of Y for emotions\n",
    "    :return:             void\n",
    "    \"\"\" \n",
    "    models[model_name]['Sentiments'].update(Parameters = model_sentiments.get_params())\n",
    "    models[model_name]['Sentiments'].update(Confusion_Matrix = confusion_matrix(y_true_sentiments, y_pred_sentiments).tolist())\n",
    "    models[model_name]['Sentiments'].update(Classification_Report = classification_report(y_true_sentiments, y_pred_sentiments))\n",
    "    models[model_name]['Sentiments'].update(Accuracy = accuracy_score(y_true_sentiments, y_pred_sentiments))\n",
    "    models[model_name]['Sentiments'].update(Macro_Average_F1 = f1_score(y_true_sentiments, y_pred_sentiments, average='macro'))\n",
    "    models[model_name]['Sentiments'].update(Weighted_Average_F1 = f1_score(y_true_sentiments, y_pred_sentiments, average='weighted'))\n",
    "    models[model_name]['Emotions'].update(Parameters = model_emotions.get_params())\n",
    "    models[model_name]['Emotions'].update(Confusion_Matrix = confusion_matrix(y_true_emotions, y_pred_emotions).tolist())\n",
    "    models[model_name]['Emotions'].update(Classification_Report = classification_report(y_true_emotions, y_pred_emotions))\n",
    "    models[model_name]['Emotions'].update(Accuracy = accuracy_score(y_true_emotions, y_pred_emotions))\n",
    "    models[model_name]['Emotions'].update(Macro_Average_F1 = f1_score(y_true_emotions, y_pred_emotions, average='macro'))\n",
    "    models[model_name]['Emotions'].update(Weighted_Average_F1 = f1_score(y_true_emotions, y_pred_emotions, average='weighted'))\n",
    "\n",
    "def train_base(model, X_train, Y_train, X_test):\n",
    "    \"\"\"\n",
    "    Train base model with provided X_train and Y_train datasets\n",
    "\n",
    "    :model:    model to train\n",
    "    :X_train:  X data array which is passed to the model for training\n",
    "    :Y_train:  Y data array which is passed to the model for training\n",
    "    :X_test:   X data array which is passed to the model for testing\n",
    "    :return:   trained base model, predictions on X_test of the model\n",
    "    \"\"\"\n",
    "    base_model = model\n",
    "    base_model.fit(X_train, Y_train)\n",
    "    base_model_predictions = base_model.predict(X_test)\n",
    "    return base_model, base_model_predictions\n",
    "\n",
    "def train_top(base_model, parameters, X_train, Y_train, X_test):\n",
    "    \"\"\"\n",
    "    Train top model with provided base model, X_train and Y_train datasets\n",
    "\n",
    "    :base_model:  base model, based on which the top model will be trained\n",
    "    :parameters:  set of hyperparameters, within which the best set is found using GridSearchSV\n",
    "    :Y_train:     Y data array which is passed to the model for training\n",
    "    :Y_train:     Y data array which is passed to the model for training\n",
    "    :X_test:      X data array which is passed to the model for testing\n",
    "    :return:      trained top model, predictions on X_test of the model\n",
    "    \"\"\"\n",
    "    top_model = GridSearchCV(base_model, parameters)\n",
    "    top_model.fit(X_train, Y_train)\n",
    "    top_model_predictions = top_model.predict(X_test)\n",
    "    return top_model, top_model_predictions\n",
    "\n",
    "def phrases_against_model(phrases, model):\n",
    "    \"\"\"\n",
    "    Compute the embedding of each phrase from phrases dataset\n",
    "\n",
    "    :phrases: array of phrases, for which embeddings have to be computed \n",
    "    :model:   pre-trained model that provides embeddings for each word\n",
    "    :return:  string of all phrases combined, embeddings of all phrases\n",
    "    \"\"\"\n",
    "    reddit_post = \"\"\n",
    "    phrases_tokens = np.zeros([len(phrases), len(model[\"good\"])])\n",
    "    index = 0\n",
    "    for phrase in phrases:\n",
    "        reddit_post += phrase + \" \"\n",
    "        counter = 0\n",
    "        for word in word_tokenize(phrase):\n",
    "            word = word.lower()\n",
    "            try:\n",
    "                temp = model[word]\n",
    "                phrases_tokens[index] += model[word]\n",
    "                counter += 1\n",
    "            except:\n",
    "                  continue\n",
    "        if(counter != 0):\n",
    "            phrases_tokens[index] /= float(counter)\n",
    "        index += 1\n",
    "    return reddit_post, phrases_tokens\n",
    "\n",
    "def compute_hit_rate(model, data_set):\n",
    "    \"\"\"\n",
    "    Compute the overall hit rate of the data set against the model\n",
    "\n",
    "    :model:   pre-trained model that provides embeddings for each word\n",
    "    :data_set: array of phrases, for the words of which the hit rate is computed\n",
    "    :return:  float hit rate in percents\n",
    "    \"\"\"\n",
    "    vocab = set()\n",
    "    non_vocab = set()\n",
    "    for phrase in data_set:\n",
    "        for word in phrase.split():\n",
    "            word = word.lower()\n",
    "            vocab.add(word)\n",
    "            try:\n",
    "                temp = model[word]\n",
    "            except:\n",
    "                if(word not in non_vocab):\n",
    "                    non_vocab.add(word)\n",
    "    return (float(len(vocab) - len(non_vocab))) * 100.0 / float(len(vocab))"
   ]
  },
  {
   "cell_type": "markdown",
   "metadata": {},
   "source": [
    "## 1.1 Download GoEmotion Dataset\n",
    "Download the dataset, which consists of 58k humman-annotated Reddit comments labeled with 27+1 emotion categories. Consecutively, the emotions are organized into 4 sentiments: *POSITIVE*, *NEGATIVE*, *AMBIGUOUS*, and *NEUTRAL*."
   ]
  },
  {
   "cell_type": "markdown",
   "metadata": {},
   "source": [
    "## 1.2 Load the Dataset\n",
    "Use gzip.open and json.load in order to load the dataset."
   ]
  },
  {
   "cell_type": "code",
   "execution_count": 6,
   "metadata": {},
   "outputs": [],
   "source": [
    "with gzip.open(\"goemotions.json.gz\", mode=\"rb\") as f:\n",
    "    emotions = np.asarray(json.load(f))"
   ]
  },
  {
   "cell_type": "markdown",
   "metadata": {},
   "source": [
    "## 1.3 Extract Data & Plot Distributions\n",
    "Extract the posts and labels of emotions and sentiments. Consecutively, plot the pie chart with regards to the distribution of sentiments, as well as the histogram with regards to the distribution of emotion categories. In order to achieve the latter-mentioned, matplotlib is utilized. "
   ]
  },
  {
   "cell_type": "code",
   "execution_count": 49,
   "metadata": {},
   "outputs": [
    {
     "data": {
      "image/png": "[encoded data removed]",
      "text/plain": [
       "<Figure size 640x480 with 1 Axes>"
      ]
     },
     "metadata": {},
     "output_type": "display_data"
    },
    {
     "data": {
      "image/png": "[encoded data removed]",
      "text/plain": [
       "<Figure size 3500x1500 with 1 Axes>"
      ]
     },
     "metadata": {},
     "output_type": "display_data"
    }
   ],
   "source": [
    "emotion_categories = {}\n",
    "sentiments = {}\n",
    "phrases = []\n",
    "phrase_index = 0\n",
    "emotion_index = 1\n",
    "sentiment_index = 2\n",
    "\n",
    "for elem in emotions:\n",
    "    phrases.append(elem[phrase_index])\n",
    "    if(elem[emotion_index] not in emotion_categories.keys()):\n",
    "        emotion_categories.update({elem[emotion_index] : 1})\n",
    "    else:\n",
    "        emotion_categories.__setitem__(elem[emotion_index], emotion_categories[elem[emotion_index]] + 1)\n",
    "    if(elem[sentiment_index] not in sentiments.keys()):\n",
    "        sentiments.update({elem[sentiment_index] : 1})\n",
    "    else:\n",
    "        sentiments.__setitem__(elem[sentiment_index], sentiments[elem[sentiment_index]] + 1)\n",
    "phrases = np.asarray(phrases)\n",
    "\n",
    "fig_sentiments, ax_sentiments = plt.subplots()\n",
    "ax_sentiments.pie(sentiments.values(), labels = sentiments.keys(), autopct=\"%.0f%%\")\n",
    "ax_sentiments.set_title(\"Distribution of Sentiments\")\n",
    "\n",
    "fig_emotions, ax_emotions = plt.subplots()\n",
    "fig_emotions.set_size_inches(35, 15)\n",
    "ax_emotions.bar(emotion_categories.keys(), emotion_categories.values(), width=0.9)\n",
    "ax_emotions.set_title(\"Distribution of Emotion's Categories\")\n",
    "ax_emotions.set_xlabel(\"Emotions Categories\")\n",
    "ax_emotions.set_ylabel(\"Number of Instances\")\n",
    "ax_emotions.grid(True)\n",
    "\n",
    "plt.show()\n",
    "\n",
    "fig_sentiments.savefig(\"sentiments_pie_chart.pdf\")\n",
    "fig_emotions.savefig(\"emotions_histogram.pdf\")"
   ]
  },
  {
   "cell_type": "markdown",
   "metadata": {},
   "source": [
    "# 2. Words as Features\n",
    "### In this part, classic *word as features* approach is used for text classification."
   ]
  },
  {
   "cell_type": "markdown",
   "metadata": {},
   "source": [
    "## 2.1 Process the Dataset & Extract Tokens & Frequencies\n",
    "Process the dataset using CountVectorizer in order to extract tokens and their frequencies. The size of the vocabulary (number of tokens) in the dataset is displayed. "
   ]
  },
  {
   "cell_type": "code",
   "execution_count": 8,
   "metadata": {},
   "outputs": [
    {
     "name": "stdout",
     "output_type": "stream",
     "text": [
      "-----VOCABULARY-----\n",
      "LENGTH: 30449\n"
     ]
    }
   ],
   "source": [
    "vectorizer = CountVectorizer(dtype=np.uint8)\n",
    "X = vectorizer.fit_transform(phrases)\n",
    "print(\"-----VOCABULARY-----\")\n",
    "print(\"LENGTH: {}\".format(len(vectorizer.get_feature_names_out())))"
   ]
  },
  {
   "cell_type": "markdown",
   "metadata": {},
   "source": [
    "## 2.2 Split the Dataset into Training & Testing\n",
    "Split the dataset into 80% for training and 20% for testing. In order to achieve the previously-mentioned, train_test_split function is utilized."
   ]
  },
  {
   "cell_type": "code",
   "execution_count": 9,
   "metadata": {},
   "outputs": [],
   "source": [
    "size_of_data_set = len(emotions)\n",
    "sentiments_X_train, sentiments_X_test, sentiments_Y_train, sentiments_Y_test = train_test_split(\n",
    "    X, np.asarray([elem[sentiment_index] for elem in emotions]), train_size=0.8, test_size=0.2\n",
    "    )\n",
    "\n",
    "emotions_X_train, emotions_X_test, emotions_Y_train, emotions_Y_test = train_test_split(\n",
    "    X, np.asarray([elem[emotion_index] for elem in emotions]), train_size=0.8, test_size=0.2\n",
    "    )"
   ]
  },
  {
   "cell_type": "markdown",
   "metadata": {},
   "source": [
    "## 2.3 Train & Test Classifiers\n",
    "Train and test the following classifiers: *Base-MNB*, *Base-DT*, *Base-MLP*, *Top-MNB*, *Top-DT*, and *Top-MLP* - for both the emotion and sentiment classification, using word frequency as features. After training of each classification type, recall score is displayed, as well as *models* dictionary is updated with all the information of the trained models."
   ]
  },
  {
   "cell_type": "markdown",
   "metadata": {},
   "source": [
    "### 2.3.1 Base-MNB\n",
    "Multinomial Naive Bayes Classifier with default parameters."
   ]
  },
  {
   "cell_type": "code",
   "execution_count": 10,
   "metadata": {},
   "outputs": [
    {
     "name": "stdout",
     "output_type": "stream",
     "text": [
      "//BASE MULTINOMIAL MB\\\\ SENTIMENTS SCORE: 0.548771970666977\n",
      "//BASE MULTINOMIAL MB\\\\ EMOTIONS SCORE: 0.3810964963333721\n"
     ]
    }
   ],
   "source": [
    "base_mnb_sentiments, base_mnb_sentiments_predictions = train_base(MultinomialNB(), sentiments_X_train, sentiments_Y_train, sentiments_X_test)\n",
    "print(\"//BASE MULTINOMIAL MB\\\\\\\\ SENTIMENTS SCORE: {}\".format(recall_score(sentiments_Y_test, base_mnb_sentiments_predictions, average='weighted')))\n",
    "\n",
    "base_mnb_emotions, base_mnb_emotions_predictions = train_base(MultinomialNB(), emotions_X_train, emotions_Y_train, emotions_X_test)\n",
    "print(\"//BASE MULTINOMIAL MB\\\\\\\\ EMOTIONS SCORE: {}\".format(recall_score(emotions_Y_test, base_mnb_emotions_predictions, average='weighted')))\n",
    "\n",
    "update_models_info(models, base_mnb_sentiments, base_mnb_emotions, 'BASE Multinomial Naive Bayes Classifier', sentiments_Y_test, base_mnb_sentiments_predictions, emotions_Y_test, base_mnb_emotions_predictions)\n"
   ]
  },
  {
   "cell_type": "markdown",
   "metadata": {},
   "source": [
    "### 2.3.2 Base-DT\n",
    "Decision Tree Classifier with default parameters."
   ]
  },
  {
   "cell_type": "code",
   "execution_count": 11,
   "metadata": {},
   "outputs": [
    {
     "name": "stdout",
     "output_type": "stream",
     "text": [
      "//BASE DECISION TREE\\\\ SENTIMENTS SCORE: 0.5438831335118147\n",
      "//BASE DECISION TREE\\\\ EMOTIONS SCORE: 0.3587184262600396\n"
     ]
    }
   ],
   "source": [
    "base_dt_sentiments, base_dt_sentiments_predictions = train_base(DecisionTreeClassifier(), sentiments_X_train, sentiments_Y_train, sentiments_X_test)\n",
    "print(\"//BASE DECISION TREE\\\\\\\\ SENTIMENTS SCORE: {}\".format(recall_score(sentiments_Y_test, base_dt_sentiments_predictions, average='weighted')))\n",
    "\n",
    "base_dt_emotions, base_dt_emotions_predictions = train_base(DecisionTreeClassifier(), emotions_X_train, emotions_Y_train, emotions_X_test)\n",
    "print(\"//BASE DECISION TREE\\\\\\\\ EMOTIONS SCORE: {}\".format(recall_score(emotions_Y_test, base_dt_emotions_predictions, average='weighted')))\n",
    "\n",
    "update_models_info(models, base_dt_sentiments, base_dt_emotions, 'BASE Decision Tree Classifier', sentiments_Y_test, base_dt_sentiments_predictions, emotions_Y_test, base_dt_emotions_predictions)"
   ]
  },
  {
   "cell_type": "markdown",
   "metadata": {},
   "source": [
    "### 2.3.3 Base-MLP\n",
    "Multi-Layered Perceptron Classifier with default parameters."
   ]
  },
  {
   "cell_type": "code",
   "execution_count": 12,
   "metadata": {},
   "outputs": [
    {
     "name": "stdout",
     "output_type": "stream",
     "text": [
      "//BASE MLP\\\\ SENTIMENTS SCORE: 0.5740600628564777\n",
      "//BASE MLP\\\\ EMOTIONS SCORE: 0.4349319054824817\n"
     ]
    }
   ],
   "source": [
    "base_mlp_sentiments, base_mlp_sentiments_predictions = train_base(MLPClassifier(max_iter=1), sentiments_X_train, sentiments_Y_train, sentiments_X_test)\n",
    "print(\"//BASE MLP\\\\\\\\ SENTIMENTS SCORE: {}\".format(recall_score(sentiments_Y_test, base_mlp_sentiments_predictions, average='weighted')))\n",
    "\n",
    "base_mlp_emotions, base_mlp_emotions_predictions = train_base(MLPClassifier(max_iter=1), emotions_X_train, emotions_Y_train, emotions_X_test)\n",
    "print(\"//BASE MLP\\\\\\\\ EMOTIONS SCORE: {}\".format(recall_score(emotions_Y_test, base_mlp_emotions_predictions, average='weighted')))\n",
    "\n",
    "update_models_info(models, base_mlp_sentiments, base_mlp_emotions, 'BASE Multi-Layered Perceptron Classifier', sentiments_Y_test, base_mlp_sentiments_predictions, emotions_Y_test, base_mlp_emotions_predictions)"
   ]
  },
  {
   "cell_type": "markdown",
   "metadata": {},
   "source": [
    "### 2.3.4 Top-MNB\n",
    "Better performing Multinomial Naive Bayes Classifier found using GridSearchCV, which allows to find the best combination of hyper-parameters. The only hyper-parameter that is searched for MNB is *alphafloat*."
   ]
  },
  {
   "cell_type": "code",
   "execution_count": 13,
   "metadata": {},
   "outputs": [
    {
     "name": "stdout",
     "output_type": "stream",
     "text": [
      "//TOP MULTINOMIAL MB\\\\ SENTIMENTS SCORE: 0.5467349551856594\n",
      "//TOP MULTINOMIAL MB\\\\ EMOTIONS SCORE: 0.3893609591432895\n"
     ]
    }
   ],
   "source": [
    "mnb_parameters = {'alpha': [0.5, 0.1, 0.001, 0]}\n",
    "\n",
    "top_mnb_sentiments, top_mnb_sentiments_predictions = train_top(base_mnb_sentiments, mnb_parameters, sentiments_X_train, sentiments_Y_train, sentiments_X_test)\n",
    "print(\"//TOP MULTINOMIAL MB\\\\\\\\ SENTIMENTS SCORE: {}\".format(recall_score(sentiments_Y_test, top_mnb_sentiments_predictions, average='weighted')))\n",
    "\n",
    "top_mnb_emotions, top_mnb_emotions_predictions = train_top(base_mnb_emotions, mnb_parameters, emotions_X_train, emotions_Y_train, emotions_X_test)\n",
    "print(\"//TOP MULTINOMIAL MB\\\\\\\\ EMOTIONS SCORE: {}\".format(recall_score(emotions_Y_test, top_mnb_emotions_predictions, average='weighted')))\n",
    "\n",
    "update_models_info(models, top_mnb_sentiments, top_mnb_emotions, 'TOP Multinomial Naive Bayes Classifier', sentiments_Y_test, top_mnb_sentiments_predictions, emotions_Y_test, top_mnb_emotions_predictions)"
   ]
  },
  {
   "cell_type": "markdown",
   "metadata": {},
   "source": [
    "### 2.3.5 Top-DT\n",
    "Better performing Decision Tree Classifier found using GridSearchCV, which allows to find the best combination of hyper-parameters. The hyper-parameters that are searched for DT are: *criterion*, *max_depth*, and *min_samples_split*."
   ]
  },
  {
   "cell_type": "code",
   "execution_count": 14,
   "metadata": {},
   "outputs": [
    {
     "name": "stdout",
     "output_type": "stream",
     "text": [
      "//TOP DT\\\\ SENTIMENTS SCORE: 0.43874403445466187\n",
      "//TOP DT\\\\ EMOTIONS SCORE: 0.3940460947503201\n"
     ]
    }
   ],
   "source": [
    "dt_parameters = {'criterion': ['gini', 'entropy'], 'max_depth': [7, 13], 'min_samples_split': [2, 5, 7]}\n",
    "\n",
    "top_dt_sentiments, top_dt_sentiments_predictions = train_top(base_dt_sentiments, dt_parameters, sentiments_X_train, sentiments_Y_train, sentiments_X_test)\n",
    "print(\"//TOP DT\\\\\\\\ SENTIMENTS SCORE: {}\".format(recall_score(sentiments_Y_test, top_dt_sentiments_predictions, average='weighted')))\n",
    "\n",
    "top_dt_emotions, top_dt_emotions_predictions = train_top(base_dt_emotions, dt_parameters, emotions_X_train, emotions_Y_train, emotions_X_test)\n",
    "print(\"//TOP DT\\\\\\\\ EMOTIONS SCORE: {}\".format(recall_score(emotions_Y_test, top_dt_emotions_predictions, average='weighted')))\n",
    "\n",
    "update_models_info(models, top_dt_sentiments, top_dt_emotions, 'TOP Decision Tree Classifier', sentiments_Y_test, top_dt_sentiments_predictions, emotions_Y_test, top_dt_emotions_predictions)"
   ]
  },
  {
   "cell_type": "markdown",
   "metadata": {},
   "source": [
    "### 2.3.6 Top-MLP\n",
    "Better performing Multinomial Naive Bayes Classifier found using GridSearchCV, which allows to find the best combination of hyper-parameters. The hyper-parameters that are searched for MLP are: *activation*, *hidden_layer_sizes*, and *solver*."
   ]
  },
  {
   "cell_type": "code",
   "execution_count": 15,
   "metadata": {},
   "outputs": [
    {
     "name": "stdout",
     "output_type": "stream",
     "text": [
      "//TOP MLP\\\\ SENTIMENTS SCORE: 0.5704225352112676\n",
      "//TOP MLP\\\\ EMOTIONS SCORE: 0.43193458270282853\n"
     ]
    }
   ],
   "source": [
    "mlp_parameters = {'activation': ['softmax', 'tanh', 'relu', 'identity'], 'hidden_layer_sizes': [(30, 50), (10, 10, 10)], 'solver': ['adam', 'sgd']}\n",
    "\n",
    "top_mlp_sentiments, top_mlp_sentiments_predictions = train_top(base_mlp_sentiments, mlp_parameters, sentiments_X_train, sentiments_Y_train, sentiments_X_test)\n",
    "print(\"//TOP MLP\\\\\\\\ SENTIMENTS SCORE: {}\".format(recall_score(sentiments_Y_test, top_mlp_sentiments_predictions, average='weighted')))\n",
    "\n",
    "top_mlp_emotions, top_mlp_emotions_predictions = train_top(base_mlp_emotions, mlp_parameters, emotions_X_train, emotions_Y_train, emotions_X_test)\n",
    "print(\"//TOP MLP\\\\\\\\ EMOTIONS SCORE: {}\".format(recall_score(emotions_Y_test, top_mlp_emotions_predictions, average='weighted')))\n",
    "\n",
    "update_models_info(models, top_mlp_sentiments, top_mlp_emotions, 'TOP Multi-Layered Perceptron Classifier', sentiments_Y_test, top_mlp_sentiments_predictions, emotions_Y_test, top_mlp_emotions_predictions)"
   ]
  },
  {
   "cell_type": "markdown",
   "metadata": {},
   "source": [
    "## 2.4 Produce & Save Analytics\n",
    "For each of the previously-trained classifiers and for each of the classification tasks, produce and save all analytical information (that is stored in *models* dictionary) in a file called performance."
   ]
  },
  {
   "cell_type": "code",
   "execution_count": 16,
   "metadata": {},
   "outputs": [],
   "source": [
    "with open('performance.txt', 'w') as f:\n",
    "    for model in models.keys():\n",
    "        if(\"EMBEDDINGS\" in str(model)):\n",
    "            continue\n",
    "        f.write(\"[\" + model + \"]\\n\")\n",
    "        for classification_category in models[model].keys():\n",
    "            f.write(\"\\t--\" + classification_category + \"--\\n\")\n",
    "            for parameter in models[model][classification_category].keys():\n",
    "                f.write(\"\\t\\t\\t\" + parameter + \": \") \n",
    "                if(parameter == \"Classification_Report\"):\n",
    "                    f.write(\"\\n{}\\n\".format(models[model][classification_category][parameter]))\n",
    "                elif(parameter == \"Confusion_Matrix\"):\n",
    "                    f.write(\"\\n\")\n",
    "                    matrix = models[model][classification_category][parameter]\n",
    "                    for i in range(0, len(matrix)):\n",
    "                        f.write(\"\\t\\t\\t\\t[\")\n",
    "                        for j in range(0, len(matrix[i])):\n",
    "                            f.write(str(matrix[i][j]))\n",
    "                            if(j != len(matrix[i]) - 1):\n",
    "                                f.write(\", \")\n",
    "                        f.write(\"]\")\n",
    "                        if(i != len(matrix) - 1):\n",
    "                            f.write(\",\")\n",
    "                        f.write(\"\\n\")\n",
    "                else:\n",
    "                    f.write(\"{}\\n\".format(models[model][classification_category][parameter]))\n",
    "        f.write(\"\\n\")"
   ]
  },
  {
   "cell_type": "markdown",
   "metadata": {},
   "source": [
    "## 2.5 Remove Stop Words & Redo 2.3\n",
    "For the purpose of exploration, remove stop words and redo all substeps of 2.3. Train and test again the following classifiers: *Base-MNB*, *Base-DT*, *Base-MLP*, *Top-MNB*, *Top-DT*, and *Top-MLP* - for both the emotion and sentiment classification, using word frequency as features, however, based on the dataset with removed stop words. After training of each classification type, recall score is displayed."
   ]
  },
  {
   "cell_type": "markdown",
   "metadata": {},
   "source": [
    "### 2.5.1 Process & Split the Dataset\n",
    "Process the dataset using CountVectorizer in order to extract tokens and their frequencies. However, now, pass *stop_words='english'* parameter to the CountVectorizer in order to remove the stop words. The size of the vocabulary (number of tokens) in the dataset is displayed.  \n",
    "Split the dataset into 80% for training and 20% for testing. In order to achieve the previously-mentioned, train_test_split function is utilized."
   ]
  },
  {
   "cell_type": "code",
   "execution_count": 17,
   "metadata": {},
   "outputs": [
    {
     "name": "stdout",
     "output_type": "stream",
     "text": [
      "-----VOCABULARY-----\n",
      "LENGTH: 30148\n"
     ]
    }
   ],
   "source": [
    "vectorizer_sw = CountVectorizer(dtype=np.uint8, stop_words='english')\n",
    "X_sw = vectorizer_sw.fit_transform(phrases)\n",
    "print(\"-----VOCABULARY-----\")\n",
    "print(\"LENGTH: {}\".format(len(vectorizer_sw.get_feature_names_out())))\n",
    "\n",
    "sentiments_X_train_sw, sentiments_X_test_sw, sentiments_Y_train_sw, sentiments_Y_test_sw = train_test_split(\n",
    "    X_sw, np.asarray([elem[sentiment_index] for elem in emotions]), train_size=0.8, test_size=0.2\n",
    "    )\n",
    "\n",
    "emotions_X_train_sw, emotions_X_test_sw, emotions_Y_train_sw, emotions_Y_test_sw = train_test_split(\n",
    "    X_sw, np.asarray([elem[emotion_index] for elem in emotions]), train_size=0.8, test_size=0.2\n",
    "    )"
   ]
  },
  {
   "cell_type": "markdown",
   "metadata": {},
   "source": [
    "### 2.5.3 Base-MNB\n",
    "Multinomial Naive Bayes Classifier with default parameters."
   ]
  },
  {
   "cell_type": "code",
   "execution_count": 18,
   "metadata": {},
   "outputs": [
    {
     "name": "stdout",
     "output_type": "stream",
     "text": [
      "//BASE MULTINOMIAL MB\\\\ SENTIMENTS SCORE: 0.5413223140495868\n",
      "//BASE MULTINOMIAL MB\\\\ EMOTIONS SCORE: 0.3910196717495053\n"
     ]
    }
   ],
   "source": [
    "base_mnb_sentiments_sw, base_mnb_sentiments_predictions_sw = train_base(MultinomialNB(), sentiments_X_train_sw, sentiments_Y_train_sw, sentiments_X_test_sw)\n",
    "print(\"//BASE MULTINOMIAL MB\\\\\\\\ SENTIMENTS SCORE: {}\".format(recall_score(sentiments_Y_test_sw, base_mnb_sentiments_predictions_sw, average='weighted')))\n",
    "\n",
    "base_mnb_emotions_sw, base_mnb_emotions_predictions_sw = train_base(MultinomialNB(), emotions_X_train_sw, emotions_Y_train_sw, emotions_X_test_sw)\n",
    "print(\"//BASE MULTINOMIAL MB\\\\\\\\ EMOTIONS SCORE: {}\".format(recall_score(emotions_Y_test_sw, base_mnb_emotions_predictions_sw, average='weighted')))"
   ]
  },
  {
   "cell_type": "markdown",
   "metadata": {},
   "source": [
    "### 2.5.4 Base-DT\n",
    "Decision Tree Classifier with default parameters."
   ]
  },
  {
   "cell_type": "code",
   "execution_count": 21,
   "metadata": {},
   "outputs": [
    {
     "name": "stdout",
     "output_type": "stream",
     "text": [
      "//BASE DECISION TREE\\\\ SENTIMENTS SCORE: 0.5448143405889885\n",
      "//BASE DECISION TREE\\\\ EMOTIONS SCORE: 0.36427656850192064\n"
     ]
    }
   ],
   "source": [
    "base_dt_sentiments_sw, base_dt_sentiments_predictions_sw = train_base(DecisionTreeClassifier(), sentiments_X_train_sw, sentiments_Y_train_sw, sentiments_X_test_sw)\n",
    "print(\"//BASE DECISION TREE\\\\\\\\ SENTIMENTS SCORE: {}\".format(recall_score(sentiments_Y_test_sw, base_dt_sentiments_predictions_sw, average='weighted')))\n",
    "\n",
    "base_dt_emotions_sw, base_dt_emotions_predictions_sw = train_base(DecisionTreeClassifier(), emotions_X_train_sw, emotions_Y_train_sw, emotions_X_test_sw)\n",
    "print(\"//BASE DECISION TREE\\\\\\\\ EMOTIONS SCORE: {}\".format(recall_score(emotions_Y_test_sw, base_dt_emotions_predictions_sw, average='weighted')))"
   ]
  },
  {
   "cell_type": "markdown",
   "metadata": {},
   "source": [
    "### 2.5.5 Base-MLP\n",
    "Multi-Layered Perceptron Classifier with default parameters."
   ]
  },
  {
   "cell_type": "code",
   "execution_count": 22,
   "metadata": {},
   "outputs": [
    {
     "name": "stdout",
     "output_type": "stream",
     "text": [
      "//BASE MLP\\\\ SENTIMENTS SCORE: 0.5662321033639856\n",
      "//BASE MLP\\\\ EMOTIONS SCORE: 0.4392969386567338\n"
     ]
    }
   ],
   "source": [
    "base_mlp_sentiments_sw, base_mlp_sentiments_predictions_sw = train_base(MLPClassifier(max_iter=1), sentiments_X_train_sw, sentiments_Y_train_sw, sentiments_X_test_sw)\n",
    "print(\"//BASE MLP\\\\\\\\ SENTIMENTS SCORE: {}\".format(recall_score(sentiments_Y_test_sw, base_mlp_sentiments_predictions_sw, average='weighted')))\n",
    "\n",
    "base_mlp_emotions_sw, base_mlp_emotions_predictions_sw = train_base(MLPClassifier(max_iter=1), emotions_X_train_sw, emotions_Y_train_sw, emotions_X_test_sw)\n",
    "print(\"//BASE MLP\\\\\\\\ EMOTIONS SCORE: {}\".format(recall_score(emotions_Y_test_sw, base_mlp_emotions_predictions_sw, average='weighted')))"
   ]
  },
  {
   "cell_type": "markdown",
   "metadata": {},
   "source": [
    "### 2.5.6 Top-MNB\n",
    "Better performing Multinomial Naive Bayes Classifier found using GridSearchCV, which allows to find the best combination of hyper-parameters. The only hyper-parameter that is searched for MNB is *alphafloat*."
   ]
  },
  {
   "cell_type": "code",
   "execution_count": 23,
   "metadata": {},
   "outputs": [
    {
     "name": "stdout",
     "output_type": "stream",
     "text": [
      "//TOP MULTINOMIAL MB\\\\ SENTIMENTS SCORE: 0.539838202770341\n",
      "//TOP MULTINOMIAL MB\\\\ EMOTIONS SCORE: 0.39360959143289487\n"
     ]
    }
   ],
   "source": [
    "top_mnb_sentiments_sw, top_mnb_sentiments_predictions_sw = train_top(base_mnb_sentiments_sw, mnb_parameters, sentiments_X_train_sw, sentiments_Y_train_sw, sentiments_X_test_sw)\n",
    "print(\"//TOP MULTINOMIAL MB\\\\\\\\ SENTIMENTS SCORE: {}\".format(recall_score(sentiments_Y_test_sw, top_mnb_sentiments_predictions_sw, average='weighted')))\n",
    "\n",
    "top_mnb_emotions_sw, top_mnb_emotions_predictions_sw = train_top(base_mnb_emotions_sw, mnb_parameters, emotions_X_train_sw, emotions_Y_train_sw, emotions_X_test_sw)\n",
    "print(\"//TOP MULTINOMIAL MB\\\\\\\\ EMOTIONS SCORE: {}\".format(recall_score(emotions_Y_test_sw, top_mnb_emotions_predictions_sw, average='weighted')))"
   ]
  },
  {
   "cell_type": "markdown",
   "metadata": {},
   "source": [
    "### 2.5.7 Top-DT\n",
    "Better performing Decision Tree Classifier found using GridSearchCV, which allows to find the best combination of hyper-parameters. The hyper-parameters that are searched for DT are: *criterion*, *max_depth*, and *min_samples_split*."
   ]
  },
  {
   "cell_type": "code",
   "execution_count": 24,
   "metadata": {},
   "outputs": [
    {
     "name": "stdout",
     "output_type": "stream",
     "text": [
      "//TOP DECISION TREE\\\\ SENTIMENTS SCORE: 0.4377837271563264\n",
      "//TOP DECISION TREE\\\\ EMOTIONS SCORE: 0.39960423699220116\n"
     ]
    }
   ],
   "source": [
    "top_dt_sentiments_sw, top_dt_sentiments_predictions_sw = train_top(base_dt_sentiments_sw, dt_parameters, sentiments_X_train_sw, sentiments_Y_train_sw, sentiments_X_test_sw)\n",
    "print(\"//TOP DECISION TREE\\\\\\\\ SENTIMENTS SCORE: {}\".format(recall_score(sentiments_Y_test_sw, top_dt_sentiments_predictions_sw, average='weighted')))\n",
    "\n",
    "top_dt_emotions_sw, top_dt_emotions_predictions_sw = train_top(base_dt_emotions_sw, dt_parameters, emotions_X_train_sw, emotions_Y_train_sw, emotions_X_test_sw)\n",
    "print(\"//TOP DECISION TREE\\\\\\\\ EMOTIONS SCORE: {}\".format(recall_score(emotions_Y_test_sw, top_dt_emotions_predictions_sw, average='weighted')))"
   ]
  },
  {
   "cell_type": "markdown",
   "metadata": {},
   "source": [
    "### 2.5.8 Top-MLP\n",
    "Better performing Multinomial Naive Bayes Classifier found using GridSearchCV, which allows to find the best combination of hyper-parameters. The hyper-parameters that are searched for MLP are: *activation*, *hidden_layer_sizes*, and *solver*."
   ]
  },
  {
   "cell_type": "code",
   "execution_count": 25,
   "metadata": {},
   "outputs": [
    {
     "name": "stdout",
     "output_type": "stream",
     "text": [
      "//TOP MLP\\\\ SENTIMENTS SCORE: 0.5704225352112676\n",
      "//TOP MLP\\\\ EMOTIONS SCORE: 0.43539750902106855\n"
     ]
    }
   ],
   "source": [
    "top_mlp_sentiments_sw, top_mlp_sentiments_predictions_sw = train_top(base_mlp_sentiments_sw, mlp_parameters, sentiments_X_train_sw, sentiments_Y_train_sw, sentiments_X_test_sw)\n",
    "print(\"//TOP MLP\\\\\\\\ SENTIMENTS SCORE: {}\".format(recall_score(sentiments_Y_test, top_mlp_sentiments_predictions, average='weighted')))\n",
    "\n",
    "top_mlp_emotions_sw, top_mlp_emotions_predictions_sw = train_top(base_mlp_emotions_sw, mlp_parameters, emotions_X_train_sw, emotions_Y_train_sw, emotions_X_test_sw)\n",
    "print(\"//TOP MLP\\\\\\\\ EMOTIONS SCORE: {}\".format(recall_score(emotions_Y_test_sw, top_mlp_emotions_predictions_sw, average='weighted')))"
   ]
  },
  {
   "cell_type": "markdown",
   "metadata": {},
   "source": [
    "# 3. Embeddings as Features\n",
    "### In this part, instead of using classic word frequencies as features, we will use Word2Vec *embeddings* for text classification."
   ]
  },
  {
   "cell_type": "markdown",
   "metadata": {},
   "source": [
    "## 3.1 Load Word2Vec Pretrained Embedding Model\n",
    "Use gensim.downloader.load in order to load the word2vec-google-news-300 pretrained embedding model. "
   ]
  },
  {
   "cell_type": "code",
   "execution_count": 26,
   "metadata": {},
   "outputs": [],
   "source": [
    "embeddings_model = gensim.downloader.load('word2vec-google-news-300')"
   ]
  },
  {
   "cell_type": "markdown",
   "metadata": {},
   "source": [
    "## 3.3 Compute Embedding of Reddit Posts\n",
    "Compute the embedding of a Reddit post as the average of the embeddings of its words. It is worth mentioning that in case a word does not have an embedding in Word2Vec, we skip it."
   ]
  },
  {
   "cell_type": "code",
   "execution_count": 27,
   "metadata": {},
   "outputs": [
    {
     "name": "stderr",
     "output_type": "stream",
     "text": [
      "[nltk_data] Downloading package punkt to\n",
      "[nltk_data]     C:\\Users\\Admin\\AppData\\Roaming\\nltk_data...\n",
      "[nltk_data]   Package punkt is already up-to-date!\n"
     ]
    }
   ],
   "source": [
    "nltk.download('punkt')\n",
    "\n",
    "reddit_post, phrases_tokens = phrases_against_model(phrases, embeddings_model)\n",
    "\n",
    "tokenizer = nltk.data.load('tokenizers/punkt/english.pickle')"
   ]
  },
  {
   "cell_type": "markdown",
   "metadata": {},
   "source": [
    "## 3.2 Use Tokenizer to Extract Words\n",
    "Use the tokenizer from nltk to extract words from the Reddit posts. Furthermore, the number of tokens in the set is displayed."
   ]
  },
  {
   "cell_type": "code",
   "execution_count": 44,
   "metadata": {},
   "outputs": [
    {
     "name": "stdout",
     "output_type": "stream",
     "text": [
      "NUMBER OF TOKENS: 2641793\n"
     ]
    }
   ],
   "source": [
    "reddit_tokens = word_tokenize(reddit_post)\n",
    "print(\"NUMBER OF TOKENS: {}\".format(len(reddit_tokens)))"
   ]
  },
  {
   "cell_type": "markdown",
   "metadata": {},
   "source": [
    "## 3.4 Compute & Display Hit Rates\n",
    "Compute and display the overall hit rates of the training and test sets (i.e. the percentage of the words in the Reddit posts for which an embedding is found in Word2Vec)."
   ]
  },
  {
   "cell_type": "code",
   "execution_count": 28,
   "metadata": {},
   "outputs": [
    {
     "name": "stdout",
     "output_type": "stream",
     "text": [
      "The Hit Rate of the Training Set is: 36.88%\n",
      "The Hit Rate of the Test Set is: 42.13%\n"
     ]
    }
   ],
   "source": [
    "sentiments_X_train_embed_temp, sentiments_X_test_embed_temp, sentiments_Y_train_embed_temp, sentiments_Y_test_embed_temp = train_test_split(\n",
    "    phrases, [elem[sentiment_index] for elem in emotions], train_size=0.8, test_size=0.2\n",
    "    )\n",
    "\n",
    "print(\"The Hit Rate of the Training Set is: {0:.2f}%\".format(compute_hit_rate(embeddings_model, sentiments_X_train_embed_temp)))\n",
    "print(\"The Hit Rate of the Test Set is: {0:.2f}%\".format(compute_hit_rate(embeddings_model, sentiments_X_test_embed_temp)))"
   ]
  },
  {
   "cell_type": "markdown",
   "metadata": {},
   "source": [
    "Prepare the training and test sets for the purpose of training the models (X will be the embeddings of each phrase, while Y stays the same as with the training of models in part two)."
   ]
  },
  {
   "cell_type": "code",
   "execution_count": 29,
   "metadata": {},
   "outputs": [],
   "source": [
    "sentiments_X_train_embed, sentiments_X_test_embed, sentiments_Y_train_embed, sentiments_Y_test_embed = train_test_split(\n",
    "    phrases_tokens[0:size_of_data_set], [elem[sentiment_index] for elem in emotions][0:size_of_data_set], train_size=0.8, test_size=0.2\n",
    "    )\n",
    "\n",
    "emotions_X_train_embed, emotions_X_test_embed, emotions_Y_train_embed, emotions_Y_test_embed = train_test_split(\n",
    "    phrases_tokens[0:size_of_data_set], [elem[emotion_index] for elem in emotions][0:size_of_data_set], train_size=0.8, test_size=0.2\n",
    "    )"
   ]
  },
  {
   "cell_type": "markdown",
   "metadata": {},
   "source": [
    "## 3.5 Train Base-MLP\n",
    "Multi-Layered Perceptron with the default parameters."
   ]
  },
  {
   "cell_type": "code",
   "execution_count": 30,
   "metadata": {},
   "outputs": [
    {
     "name": "stdout",
     "output_type": "stream",
     "text": [
      "//BASE MLP\\\\ SENTIMENTS SCORE: 0.5195262483994878\n",
      "//BASE MLP\\\\ EMOTIONS SCORE: 0.38330811314165986\n"
     ]
    }
   ],
   "source": [
    "base_mlp_sentiments_embed, base_mlp_sentiments_predictions_embed = train_base(MLPClassifier(max_iter=1), sentiments_X_train_embed, sentiments_Y_train_embed, sentiments_X_test_embed)\n",
    "print(\"//BASE MLP\\\\\\\\ SENTIMENTS SCORE: {}\".format(recall_score(sentiments_Y_test_embed, base_mlp_sentiments_predictions_embed, average='weighted')))\n",
    "\n",
    "base_mlp_emotions_embed, base_mlp_emotions_predictions_embed = train_base(MLPClassifier(max_iter=1), emotions_X_train_embed, emotions_Y_train_embed, emotions_X_test_embed)\n",
    "print(\"//BASE MLP\\\\\\\\ EMOTIONS SCORE: {}\".format(recall_score(emotions_Y_test_embed, base_mlp_emotions_predictions_embed, average='weighted')))\n",
    "\n",
    "update_models_info(models, base_mlp_sentiments_embed, base_mlp_emotions_embed, 'BASE Multi-Layered Perceptron Classifier (EMBEDDINGS)', sentiments_Y_test_embed, base_mlp_sentiments_predictions_embed, emotions_Y_test_embed, base_mlp_emotions_predictions_embed)"
   ]
  },
  {
   "cell_type": "markdown",
   "metadata": {},
   "source": [
    "## 3.6 Train Top-MLP\n",
    "Better performing Multi-Layered Perceptron found with the hyperparameters utilized for part 2.5.8 (the hyper-parameters that are searched for MLP are: *activation*, *hidden_layer_sizes*, and *solver*)."
   ]
  },
  {
   "cell_type": "code",
   "execution_count": 31,
   "metadata": {},
   "outputs": [
    {
     "name": "stdout",
     "output_type": "stream",
     "text": [
      "//TOP MLP\\\\ SENTIMENTS SCORE: 0.5204574554766617\n",
      "//TOP MLP\\\\ EMOTIONS SCORE: 0.3805726923524619\n"
     ]
    }
   ],
   "source": [
    "top_mlp_sentiments_embed, top_mlp_sentiments_predictions_embed = train_top(base_mlp_sentiments_embed, mlp_parameters, sentiments_X_train_embed, sentiments_Y_train_embed, sentiments_X_test_embed)\n",
    "print(\"//TOP MLP\\\\\\\\ SENTIMENTS SCORE: {}\".format(recall_score(sentiments_Y_test_embed, top_mlp_sentiments_predictions_embed, average='weighted')))\n",
    "\n",
    "top_mlp_emotions_embed, top_mlp_emotions_predictions_embed = train_top(base_mlp_sentiments_embed, mlp_parameters, emotions_X_train_embed, emotions_Y_train_embed, emotions_X_test_embed)\n",
    "print(\"//TOP MLP\\\\\\\\ EMOTIONS SCORE: {}\".format(recall_score(emotions_Y_test_embed, top_mlp_emotions_predictions_embed, average='weighted')))\n",
    "\n",
    "update_models_info(models, top_mlp_sentiments_embed, top_mlp_emotions_embed, 'TOP Multi-Layered Perceptron Classifier (EMBEDDINGS)', sentiments_Y_test_embed, top_mlp_sentiments_predictions_embed, emotions_Y_test_embed, top_mlp_emotions_predictions_embed)"
   ]
  },
  {
   "cell_type": "markdown",
   "metadata": {},
   "source": [
    "## 3.7 Display & Add Analytics\n",
    "Display the performance of our classifiers using metrics.classification_report."
   ]
  },
  {
   "cell_type": "code",
   "execution_count": 32,
   "metadata": {},
   "outputs": [
    {
     "name": "stdout",
     "output_type": "stream",
     "text": [
      "//BASE MLP\\\\ SENTIMENTS CLASSIFICATION REPORT\n",
      "              precision    recall  f1-score   support\n",
      "\n",
      "   ambiguous       0.43      0.05      0.08      3836\n",
      "    negative       0.50      0.46      0.48      7722\n",
      "     neutral       0.45      0.55      0.50     11063\n",
      "    positive       0.60      0.68      0.64     11743\n",
      "\n",
      "    accuracy                           0.52     34364\n",
      "   macro avg       0.49      0.44      0.42     34364\n",
      "weighted avg       0.51      0.52      0.50     34364\n",
      "\n",
      "//BASE MLP\\\\ EMOTIONS CLASSIFICATION REPORT\n",
      "                precision    recall  f1-score   support\n",
      "\n",
      "    admiration       0.46      0.34      0.39      2116\n",
      "     amusement       0.47      0.18      0.26      1249\n",
      "         anger       0.36      0.08      0.13      1080\n",
      "     annoyance       0.24      0.00      0.01      1642\n",
      "      approval       0.65      0.00      0.01      2247\n",
      "        caring       0.42      0.01      0.01       694\n",
      "     confusion       0.33      0.00      0.01      1004\n",
      "     curiosity       0.12      0.00      0.01      1167\n",
      "        desire       1.00      0.01      0.02       444\n",
      "disappointment       0.00      0.00      0.00       945\n",
      "   disapproval       0.30      0.02      0.03      1469\n",
      "       disgust       0.32      0.04      0.07       561\n",
      " embarrassment       0.00      0.00      0.00       280\n",
      "    excitement       0.33      0.00      0.00       552\n",
      "          fear       1.00      0.02      0.03       357\n",
      "     gratitude       0.71      0.66      0.68      1396\n",
      "         grief       0.00      0.00      0.00        64\n",
      "           joy       0.39      0.06      0.11       880\n",
      "          love       0.57      0.45      0.50      1010\n",
      "   nervousness       0.00      0.00      0.00       157\n",
      "       neutral       0.36      0.94      0.52     11178\n",
      "      optimism       0.51      0.03      0.06       946\n",
      "         pride       0.00      0.00      0.00       142\n",
      "   realization       0.00      0.00      0.00       902\n",
      "        relief       0.00      0.00      0.00       162\n",
      "       remorse       0.41      0.06      0.11       295\n",
      "       sadness       0.31      0.11      0.16       724\n",
      "      surprise       0.20      0.00      0.00       701\n",
      "\n",
      "      accuracy                           0.38     34364\n",
      "     macro avg       0.34      0.11      0.11     34364\n",
      "  weighted avg       0.38      0.38      0.26     34364\n",
      "\n",
      "//TOP MLP\\\\ SENTIMENTS CLASSIFICATION REPORT\n",
      "              precision    recall  f1-score   support\n",
      "\n",
      "   ambiguous       0.44      0.04      0.07      3836\n",
      "    negative       0.47      0.52      0.49      7722\n",
      "     neutral       0.45      0.57      0.51     11063\n",
      "    positive       0.64      0.63      0.63     11743\n",
      "\n",
      "    accuracy                           0.52     34364\n",
      "   macro avg       0.50      0.44      0.43     34364\n",
      "weighted avg       0.52      0.52      0.50     34364\n",
      "\n",
      "//TOP MLP\\\\ EMOTIONS CLASSIFICATION REPORT\n",
      "                precision    recall  f1-score   support\n",
      "\n",
      "    admiration       0.00      0.00      0.00         0\n",
      "     ambiguous       0.00      0.00      0.00      3836\n",
      "     amusement       0.00      0.00      0.00         0\n",
      "         anger       0.00      0.00      0.00         0\n",
      "     annoyance       0.00      0.00      0.00         0\n",
      "      approval       0.00      0.00      0.00         0\n",
      "        caring       0.00      0.00      0.00         0\n",
      "     confusion       0.00      0.00      0.00         0\n",
      "     curiosity       0.00      0.00      0.00         0\n",
      "disappointment       0.00      0.00      0.00         0\n",
      "   disapproval       0.00      0.00      0.00         0\n",
      "       disgust       0.00      0.00      0.00         0\n",
      "          fear       0.00      0.00      0.00         0\n",
      "     gratitude       0.00      0.00      0.00         0\n",
      "           joy       0.00      0.00      0.00         0\n",
      "          love       0.00      0.00      0.00         0\n",
      "      negative       0.00      0.00      0.00      7722\n",
      "       neutral       0.32      0.81      0.46     11063\n",
      "      optimism       0.00      0.00      0.00         0\n",
      "      positive       0.00      0.00      0.00     11743\n",
      "       remorse       0.00      0.00      0.00         0\n",
      "       sadness       0.00      0.00      0.00         0\n",
      "      surprise       0.00      0.00      0.00         0\n",
      "\n",
      "      accuracy                           0.26     34364\n",
      "     macro avg       0.01      0.04      0.02     34364\n",
      "  weighted avg       0.10      0.26      0.15     34364\n",
      "\n"
     ]
    }
   ],
   "source": [
    "print(\"//BASE MLP\\\\\\\\ SENTIMENTS CLASSIFICATION REPORT\")\n",
    "print(classification_report(sentiments_Y_test_embed, base_mlp_sentiments_predictions_embed))\n",
    "print(\"//BASE MLP\\\\\\\\ EMOTIONS CLASSIFICATION REPORT\")\n",
    "print(classification_report(emotions_Y_test_embed, base_mlp_emotions_predictions_embed))\n",
    "print(\"//TOP MLP\\\\\\\\ SENTIMENTS CLASSIFICATION REPORT\")\n",
    "print(classification_report(sentiments_Y_test_embed, top_mlp_sentiments_predictions_embed))\n",
    "print(\"//TOP MLP\\\\\\\\ EMOTIONS CLASSIFICATION REPORT\")\n",
    "print(classification_report(sentiments_Y_test_embed, top_mlp_emotions_predictions_embed))"
   ]
  },
  {
   "cell_type": "markdown",
   "metadata": {},
   "source": [
    "Add all the analytics of the trained Base and Top MLP models to the performance file."
   ]
  },
  {
   "cell_type": "code",
   "execution_count": 33,
   "metadata": {},
   "outputs": [],
   "source": [
    "with open('performance.txt', 'a') as f:\n",
    "    for model in models.keys():\n",
    "        if(\"EMBEDDINGS\" not in str(model)):\n",
    "            continue\n",
    "        f.write(\"[\" + model + \"]\\n\")\n",
    "        for classification_category in models[model].keys():\n",
    "            f.write(\"\\t--\" + classification_category + \"--\\n\")\n",
    "            for parameter in models[model][classification_category].keys():\n",
    "                f.write(\"\\t\\t\\t\" + parameter + \": \") \n",
    "                if(parameter == \"Classification_Report\"):\n",
    "                    f.write(\"\\n{}\\n\".format(models[model][classification_category][parameter]))\n",
    "                elif(parameter == \"Confusion_Matrix\"):\n",
    "                    f.write(\"\\n\")\n",
    "                    matrix = models[model][classification_category][parameter]\n",
    "                    for i in range(0, len(matrix)):\n",
    "                        f.write(\"\\t\\t\\t\\t[\")\n",
    "                        for j in range(0, len(matrix[i])):\n",
    "                            f.write(str(matrix[i][j]))\n",
    "                            if(j != len(matrix[i]) - 1):\n",
    "                                f.write(\", \")\n",
    "                        f.write(\"]\")\n",
    "                        if(i != len(matrix) - 1):\n",
    "                            f.write(\",\")\n",
    "                        f.write(\"\\n\")\n",
    "                else:\n",
    "                    f.write(\"{}\\n\".format(models[model][classification_category][parameter]))\n",
    "        f.write(\"\\n\")"
   ]
  },
  {
   "cell_type": "markdown",
   "metadata": {},
   "source": [
    "## 3.8 Rerun With Other Embedding Models\n",
    "For the purpose of exploration, rerun the best performing model (Base-MLP) with 2 other English pretrained embedding models, which were chosen to be: *glove-twitter-25*, and *glove-wiki-gigaword-100*."
   ]
  },
  {
   "cell_type": "markdown",
   "metadata": {},
   "source": [
    "### 3.8.1 Glove-Twitter-25\n",
    "Rerun Base-MLP with glove-twitter-25 English pretrained embedding model."
   ]
  },
  {
   "cell_type": "markdown",
   "metadata": {},
   "source": [
    "#### 3.8.1.1 Glove-Twitter-25 Pretrained Embedding Model\n",
    "Use gensim.downloader.load in order to load the glove-twitter-25 pretrained embedding model. "
   ]
  },
  {
   "cell_type": "code",
   "execution_count": 34,
   "metadata": {},
   "outputs": [],
   "source": [
    "glove_twitter = gensim.downloader.load(\"glove-twitter-25\")"
   ]
  },
  {
   "cell_type": "markdown",
   "metadata": {},
   "source": [
    "#### 3.8.1.2 Compute Embedding of Reddit Posts\n",
    "Compute the embedding of a Reddit post as the average of the embeddings of its words. It is worth mentioning that in case a word does not have an embedding in Word2Vec, we skip it."
   ]
  },
  {
   "cell_type": "code",
   "execution_count": 35,
   "metadata": {},
   "outputs": [],
   "source": [
    "reddit_post_twitter, phrases_tokens_twitter = phrases_against_model(phrases, glove_twitter)"
   ]
  },
  {
   "cell_type": "markdown",
   "metadata": {},
   "source": [
    "#### 3.8.1.3 Compute & Display Hit Rates\n",
    "Compute and display the overall hit rates of the training and test sets (i.e. the percentage of the words in the Reddit posts for which an embedding is found in glove-twitter-25)."
   ]
  },
  {
   "cell_type": "code",
   "execution_count": 36,
   "metadata": {},
   "outputs": [
    {
     "name": "stdout",
     "output_type": "stream",
     "text": [
      "The Hit Rate of the Training Set is: 39.15%\n",
      "The Hit Rate of the Test Set is: 44.05%\n"
     ]
    }
   ],
   "source": [
    "print(\"The Hit Rate of the Training Set is: {0:.2f}%\".format(compute_hit_rate(glove_twitter, sentiments_X_train_embed_temp)))\n",
    "print(\"The Hit Rate of the Test Set is: {0:.2f}%\".format(compute_hit_rate(glove_twitter, sentiments_X_test_embed_temp)))"
   ]
  },
  {
   "cell_type": "markdown",
   "metadata": {},
   "source": [
    "Prepare the training and test sets for the purpose of training the models (X will be the embeddings of each phrase, while Y stays the same as with the training of models in part two)."
   ]
  },
  {
   "cell_type": "code",
   "execution_count": 37,
   "metadata": {},
   "outputs": [],
   "source": [
    "sentiments_X_train_twitter, sentiments_X_test_twitter, sentiments_Y_train_twitter, sentiments_Y_test_twitter = train_test_split(\n",
    "    phrases_tokens_twitter[0:size_of_data_set], [elem[sentiment_index] for elem in emotions][0:size_of_data_set], train_size=0.8, test_size=0.2\n",
    "    )\n",
    "\n",
    "emotions_X_train_twitter, emotions_X_test_twitter, emotions_Y_train_twitter, emotions_Y_test_twitter = train_test_split(\n",
    "    phrases_tokens_twitter[0:size_of_data_set], [elem[emotion_index] for elem in emotions][0:size_of_data_set], train_size=0.8, test_size=0.2\n",
    "    )"
   ]
  },
  {
   "cell_type": "markdown",
   "metadata": {},
   "source": [
    "#### 3.8.1.4 Train Base-MLP\n",
    "Multi-Layered Perceptron with the default parameters."
   ]
  },
  {
   "cell_type": "code",
   "execution_count": 38,
   "metadata": {},
   "outputs": [
    {
     "name": "stdout",
     "output_type": "stream",
     "text": [
      "//BASE MLP\\\\ SENTIMENTS SCORE: 0.4535269468047957\n",
      "//BASE MLP\\\\ EMOTIONS SCORE: 0.34707833779536723\n"
     ]
    }
   ],
   "source": [
    "base_mlp_sentiments_twitter, base_mlp_sentiments_predictions_twitter = train_base(MLPClassifier(max_iter=1), sentiments_X_train_twitter, sentiments_Y_train_twitter, sentiments_X_test_twitter)\n",
    "print(\"//BASE MLP\\\\\\\\ SENTIMENTS SCORE: {}\".format(recall_score(sentiments_Y_test_twitter, base_mlp_sentiments_predictions_twitter, average='weighted')))\n",
    "\n",
    "base_mlp_emotions_twitter, base_mlp_emotions_predictions_twitter = train_base(MLPClassifier(max_iter=1), emotions_X_train_twitter, emotions_Y_train_twitter, emotions_X_test_twitter)\n",
    "print(\"//BASE MLP\\\\\\\\ EMOTIONS SCORE: {}\".format(recall_score(emotions_Y_test_twitter, base_mlp_emotions_predictions_twitter, average='weighted')))"
   ]
  },
  {
   "cell_type": "markdown",
   "metadata": {},
   "source": [
    "### 3.8.2 Glove-Wiki-Gigaword-100\n",
    "Rerun Base-MLP with glove-wiki-gigaword-100 English pretrained embedding model."
   ]
  },
  {
   "cell_type": "markdown",
   "metadata": {},
   "source": [
    "#### 3.8.2.1 Glove-Wiki-Gigaword-100 Pretrained Embedding Model\n",
    "Use gensim.downloader.load in order to load the glove-wiki-gigaword-100 pretrained embedding model. "
   ]
  },
  {
   "cell_type": "code",
   "execution_count": 39,
   "metadata": {},
   "outputs": [],
   "source": [
    "glove_wiki_gigaword = gensim.downloader.load(\"glove-wiki-gigaword-100\")"
   ]
  },
  {
   "cell_type": "markdown",
   "metadata": {},
   "source": [
    "#### 3.8.2.2 Compute Embedding of Reddit Posts\n",
    "Compute the embedding of a Reddit post as the average of the embeddings of its words. It is worth mentioning that in case a word does not have an embedding in Word2Vec, we skip it."
   ]
  },
  {
   "cell_type": "code",
   "execution_count": 40,
   "metadata": {
    "scrolled": true
   },
   "outputs": [],
   "source": [
    "reddit_post_wiki, phrases_tokens_wiki = phrases_against_model(phrases, glove_wiki_gigaword)"
   ]
  },
  {
   "cell_type": "markdown",
   "metadata": {},
   "source": [
    "#### 3.8.2.3 Compute & Display Hit Rates\n",
    "Compute and display the overall hit rates of the training and test sets (i.e. the percentage of the words in the Reddit posts for which an embedding is found in glove-twitter-25)."
   ]
  },
  {
   "cell_type": "code",
   "execution_count": 41,
   "metadata": {},
   "outputs": [
    {
     "name": "stdout",
     "output_type": "stream",
     "text": [
      "The Hit Rate of the Training Set is: 39.20%\n",
      "The Hit Rate of the Test Set is: 44.11%\n"
     ]
    }
   ],
   "source": [
    "print(\"The Hit Rate of the Training Set is: {0:.2f}%\".format(compute_hit_rate(glove_wiki_gigaword, sentiments_X_train_embed_temp)))\n",
    "print(\"The Hit Rate of the Test Set is: {0:.2f}%\".format(compute_hit_rate(glove_wiki_gigaword, sentiments_X_test_embed_temp)))"
   ]
  },
  {
   "cell_type": "markdown",
   "metadata": {},
   "source": [
    "Prepare the training and test sets for the purpose of training the models (X will be the embeddings of each phrase, while Y stays the same as with the training of models in part two)."
   ]
  },
  {
   "cell_type": "code",
   "execution_count": 42,
   "metadata": {},
   "outputs": [],
   "source": [
    "sentiments_X_train_wiki, sentiments_X_test_wiki, sentiments_Y_train_wiki, sentiments_Y_test_wiki = train_test_split(\n",
    "    phrases_tokens_wiki[0:size_of_data_set], [elem[sentiment_index] for elem in emotions][0:size_of_data_set], train_size=0.8, test_size=0.2\n",
    "    )\n",
    "\n",
    "emotions_X_train_wiki, emotions_X_test_wiki, emotions_Y_train_wiki, emotions_Y_test_wiki = train_test_split(\n",
    "    phrases_tokens_wiki[0:size_of_data_set], [elem[emotion_index] for elem in emotions][0:size_of_data_set], train_size=0.8, test_size=0.2\n",
    "    )"
   ]
  },
  {
   "cell_type": "markdown",
   "metadata": {},
   "source": [
    "#### 3.8.2.4 Train Base-MLP\n",
    "Multi-Layered Perceptron with the default parameters."
   ]
  },
  {
   "cell_type": "code",
   "execution_count": 43,
   "metadata": {},
   "outputs": [
    {
     "name": "stdout",
     "output_type": "stream",
     "text": [
      "//BASE MLP\\\\ SENTIMENTS SCORE: 0.4840239785822372\n",
      "//BASE MLP\\\\ EMOTIONS SCORE: 0.36087184262600397\n"
     ]
    }
   ],
   "source": [
    "base_mlp_sentiments_wiki, base_mlp_sentiments_predictions_wiki = train_base(MLPClassifier(max_iter=1), sentiments_X_train_wiki, sentiments_Y_train_wiki, sentiments_X_test_wiki)\n",
    "print(\"//BASE MLP\\\\\\\\ SENTIMENTS SCORE: {}\".format(recall_score(sentiments_Y_test_wiki, base_mlp_sentiments_predictions_wiki, average='weighted')))\n",
    "\n",
    "base_mlp_emotions_wiki, base_mlp_emotions_predictions_wiki = train_base(MLPClassifier(max_iter=1), emotions_X_train_wiki, emotions_Y_train_wiki, emotions_X_test_wiki)\n",
    "print(\"//BASE MLP\\\\\\\\ EMOTIONS SCORE: {}\".format(recall_score(emotions_Y_test_wiki, base_mlp_emotions_predictions_wiki, average='weighted')))"
   ]
  },
  {
   "cell_type": "code",
   "execution_count": null,
   "metadata": {},
   "outputs": [],
   "source": []
  }
 ],
 "metadata": {
  "kernelspec": {
   "display_name": "Python 3 (ipykernel)",
   "language": "python",
   "name": "python3"
  },
  "language_info": {
   "codemirror_mode": {
    "name": "ipython",
    "version": 3
   },
   "file_extension": ".py",
   "mimetype": "text/x-python",
   "name": "python",
   "nbconvert_exporter": "python",
   "pygments_lexer": "ipython3",
   "version": "3.9.7"
  },
  "vscode": {
   "interpreter": {
    "hash": "2043299c89c8cd0b4d1a6f5cf4529bd58e6a4e0fe3181a25e0d328c821cdc5c5"
   }
  }
 },
 "nbformat": 4,
 "nbformat_minor": 2
}
